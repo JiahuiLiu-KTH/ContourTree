{
 "cells": [
  {
   "cell_type": "code",
   "execution_count": 1,
   "id": "79b9c97f-6b34-473c-bf35-0fff5636a9ed",
   "metadata": {},
   "outputs": [
    {
     "name": "stdout",
     "output_type": "stream",
     "text": [
      "[[ 29  37  39  70  74  84  38  36  26]\n",
      " [ 27 100  49  72  85  89  83  28  24]\n",
      " [ 25  47  50  73  86  90  71  82  22]\n",
      " [ 23  75  79  48  69  87  88  81  18]\n",
      " [ 19  76  80  78  46  68  67  40  16]\n",
      " [ 17  41  77  45  35  20  21  32  15]\n",
      " [ 13  60  43  44  34  33  31  30  14]\n",
      " [ 12  11  10   9   8   7   6   5   0]]\n"
     ]
    }
   ],
   "source": [
    "import numpy as np\n",
    "\n",
    "rawData = np.array([[29,37,39,70,74,84,38,36,26],\n",
    "                    [27,100,49,72,85,89,83,28,24],\n",
    "                    [25,47,50,73,86,90,71,82,22],\n",
    "                    [23,75,79,48,69,87,88,81,18],\n",
    "                    [19,76,80,78,46,68,67,40,16],\n",
    "                    [17,41,77,45,35,20,21,32,15],\n",
    "                    [13,60,43,44,34,33,31,30,14],\n",
    "                    [12,11,10,9,8,7,6,5,0]])\n",
    "print(rawData)"
   ]
  },
  {
   "cell_type": "code",
   "execution_count": 2,
   "id": "f0ed3611-b17a-4b7d-b0b5-650189d4d3ef",
   "metadata": {
    "tags": []
   },
   "outputs": [],
   "source": [
    "m = 8\n",
    "n = 9\n",
    "vertexList = np.arange(m*n*3, dtype='f')\n",
    "vertexList = vertexList.reshape(8,9,3)\n",
    "\n",
    "x = 0\n",
    "y = 1\n",
    "z = 2\n",
    "\n",
    "zScale = 0.1 * 0.5\n",
    "\n",
    "for i in range(m):\n",
    "    for j in range(n):\n",
    "        vertexList[i,j,x] = i\n",
    "        vertexList[i,j,y] = j\n",
    "        vertexList[i,j,z] = rawData[i,j] * zScale\n",
    "# print(vertexList)"
   ]
  },
  {
   "cell_type": "code",
   "execution_count": 3,
   "id": "be445d9e-fdfd-401e-ae30-d1f8e6cd1056",
   "metadata": {
    "tags": []
   },
   "outputs": [],
   "source": [
    "#lines\n",
    "horLineNum = m*(n-1)\n",
    "verLineNum = n*(m-1)\n",
    "diaLineNum = (m-1)*(n-1)\n",
    "totLineNum = 3*m*n - 2*m - 2*n + 1\n",
    "# print(horLineNum + verLineNum + diaLineNum == TotLineNum)\n",
    "lineList = np.arange(totLineNum)\n",
    "\n",
    "# horizontal line\n",
    "horLine = []\n",
    "for i in range(m):\n",
    "    line = np.arange(i*n+1, (i+1)*n+1)\n",
    "    horLine.append(line)\n",
    "\n",
    "# vertical line\n",
    "verLine = []\n",
    "for j in range(n):\n",
    "    line = np.arange(j+1, m*n+j+1, n)\n",
    "    verLine.append(line)\n",
    "    \n",
    "# diagonal line\n",
    "diaLine = []\n",
    "for i in range(m-1):\n",
    "    for j in range(n-1):\n",
    "        line = np.arange(i*n+j+1, (i+2)*n+j+1,n+1)\n",
    "        diaLine.append(line)"
   ]
  },
  {
   "cell_type": "code",
   "execution_count": 4,
   "id": "85cea0e0-22d5-4c59-a369-7553d695308f",
   "metadata": {},
   "outputs": [],
   "source": [
    "# faces\n",
    "faceList = []\n",
    "for i in range(m-1):\n",
    "    for j in range(n-1):\n",
    "        face1 = np.array([i*n+j+1, i*n+j+n+1, i*n+j+n+1+1])\n",
    "        faceList.append(face1)\n",
    "        face1 = np.array([i*n+j+1, i*n+j+n+1+1, i*n+j+1+1])\n",
    "        faceList.append(face1)"
   ]
  },
  {
   "cell_type": "code",
   "execution_count": 5,
   "id": "5988271b-981f-40ba-ae47-4ba0993269e7",
   "metadata": {},
   "outputs": [],
   "source": [
    "import datetime\n",
    "\n",
    "outputFile = open(\"mesh/carr.obj\",\"w\")\n",
    "now = datetime.datetime.now()\n",
    "outputFile.write(\"# Create by Jiahui Liu, \" + str(now) + \"\\n\")\n",
    "outputFile.write(\"# A 2-D mesh.\\n\")\n",
    "outputFile.write(\"\\n\")\n",
    "\n",
    "outputFile.write(\"# vertices\\n\")\n",
    "for i in range(m):\n",
    "    for j in range(n):\n",
    "        outputFile.write(\"v \" + str(vertexList[i,j,x]) + \" \" + str(vertexList[i,j,y]) + \" \" + str(vertexList[i,j,z]) + \"\\n\")\n",
    "\n",
    "outputFile.write(\"\\n\")\n",
    "outputFile.write(\"# faces\\n\")\n",
    "for face in faceList:\n",
    "    outputFile.write(\"f \" + str(face).strip(\"]\").strip(\"[\").strip() + \"\\n\")\n",
    "        \n",
    "# outputFile.write(\"\\n\")\n",
    "# outputFile.write(\"# lines\\n\")\n",
    "# for line in horLine:\n",
    "#     outputFile.write(\"l \" + str(line).strip(\"]\").strip(\"[\").strip() + \"\\n\")\n",
    "# for line in verLine:\n",
    "#     outputFile.write(\"l \" + str(line).strip(\"]\").strip(\"[\").strip() + \"\\n\")\n",
    "# for line in diaLine:\n",
    "#     outputFile.write(\"l \" + str(line).strip(\"]\").strip(\"[\").strip() + \"\\n\")\n",
    "    \n",
    "outputFile.close()"
   ]
  },
  {
   "cell_type": "code",
   "execution_count": 10,
   "id": "c53af3d4-dec1-4f06-8c08-4d2912851f09",
   "metadata": {},
   "outputs": [],
   "source": [
    "# save in volume, the .dat and .raw file\n",
    "volumeFile = \"volumes/carr\"\n",
    "\n",
    "dat = \"\"\"RawFile: {file}\n",
    "Resolution: {dimX} {dimY} {dimZ}\n",
    "Format: {format}\n",
    "DataRange: {dataMin} {dataMax}\n",
    "ValueRange: {dataMin} {dataMax}\n",
    "BasisVector1: {V1} 0.0 0.0\n",
    "BasisVector2: 0.0 {V2} 0.0\n",
    "BasisVector3: 0.0 0.0 {V3}\n",
    "\"\"\"\n",
    "\n",
    "# write .dat file\n",
    "with open(volumeFile + \".dat\", 'w') as f:\n",
    "    f.write(dat.format(\n",
    "        file = volumeFile.split(\"/\")[-1]+\".raw\", \n",
    "        format = \"FLOAT32\", \n",
    "        dimX = rawData.shape[0],\n",
    "        dimY = rawData.shape[1],\n",
    "        dimZ = 1,\n",
    "        dataMin = rawData.min(),\n",
    "        dataMax = rawData.max(),\n",
    "        V1 = rawData.shape[0],\n",
    "        V2 = rawData.shape[1],\n",
    "        V3 = 1\n",
    "    ))\n",
    "\n",
    "arr = np.float32(rawData.T)\n",
    "arr.tofile(volumeFile + \".raw\")\n"
   ]
  },
  {
   "cell_type": "code",
   "execution_count": null,
   "id": "3d206b3e-7ddd-43a2-83ec-4f032311b2e2",
   "metadata": {},
   "outputs": [],
   "source": []
  }
 ],
 "metadata": {
  "kernelspec": {
   "display_name": "Python 3 (ipykernel)",
   "language": "python",
   "name": "python3"
  },
  "language_info": {
   "codemirror_mode": {
    "name": "ipython",
    "version": 3
   },
   "file_extension": ".py",
   "mimetype": "text/x-python",
   "name": "python",
   "nbconvert_exporter": "python",
   "pygments_lexer": "ipython3",
   "version": "3.9.7"
  }
 },
 "nbformat": 4,
 "nbformat_minor": 5
}
